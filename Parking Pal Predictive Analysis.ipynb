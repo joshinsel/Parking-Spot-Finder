{
 "cells": [
  {
   "cell_type": "markdown",
   "id": "64bc13f2",
   "metadata": {},
   "source": [
    "We will sample two seperate locations with random data in effort to simulate a predictive algorithm on parking wait times for the future when the data becomes available."
   ]
  },
  {
   "cell_type": "markdown",
   "id": "30e60908",
   "metadata": {},
   "source": [
    "NYC has mean 15-20, low 5 high as 60\n",
    "We know that New York City has an average wait time of approximately 17 minutes, with a bit of standard deviation. We'll simplify to $\\mu_{NYC} = 17$ and $\\sigma_{NYC} = 5$"
   ]
  },
  {
   "cell_type": "markdown",
   "id": "2b0de07d",
   "metadata": {},
   "source": [
    "Let's generate some random data points with this in mind."
   ]
  },
  {
   "cell_type": "code",
   "execution_count": 188,
   "id": "4ae41921",
   "metadata": {},
   "outputs": [],
   "source": [
    "import numpy as np\n",
    "import pandas as pd\n",
    "import matplotlib.pyplot as plt\n",
    "from sklearn.ensemble import RandomForestRegressor"
   ]
  },
  {
   "cell_type": "code",
   "execution_count": 155,
   "id": "b6d8e878",
   "metadata": {},
   "outputs": [],
   "source": [
    "NYC_mu = 17\n",
    "NYC_sigma = 5\n",
    "N = 10000\n",
    "NYC_times = np.random.normal(NYC_mu, NYC_sigma,N)"
   ]
  },
  {
   "cell_type": "markdown",
   "id": "75f295a3",
   "metadata": {},
   "source": [
    "We create a normal distribution with 10,000 sample points of parking search time in NYC. Each will associate with a coordinate set. We graph below with 40 bins, approximately 1 per minute."
   ]
  },
  {
   "cell_type": "code",
   "execution_count": 156,
   "id": "214a3509",
   "metadata": {},
   "outputs": [
    {
     "data": {
      "image/png": "[encoded data removed]",
      "text/plain": [
       "<Figure size 432x288 with 1 Axes>"
      ]
     },
     "metadata": {
      "needs_background": "light"
     },
     "output_type": "display_data"
    }
   ],
   "source": [
    "count, bins, ignored = plt.hist(NYC_times, 40, density=True)\n",
    "plt.plot(bins, 1/(NYC_sigma * np.sqrt(2 * np.pi)) *\n",
    "        np.exp( - (bins - NYC_mu)**2 / (2 * NYC_sigma**2) ),\n",
    "        linewidth=2, color='r')\n",
    "plt.show()"
   ]
  },
  {
   "cell_type": "code",
   "execution_count": 157,
   "id": "fffe29a8",
   "metadata": {},
   "outputs": [],
   "source": [
    "NYC_time_df = pd.DataFrame(NYC_times, columns = ['waiting time'])"
   ]
  },
  {
   "cell_type": "code",
   "execution_count": 158,
   "id": "ced98b54",
   "metadata": {},
   "outputs": [
    {
     "data": {
      "text/html": [
       "<div>\n",
       "<style scoped>\n",
       "    .dataframe tbody tr th:only-of-type {\n",
       "        vertical-align: middle;\n",
       "    }\n",
       "\n",
       "    .dataframe tbody tr th {\n",
       "        vertical-align: top;\n",
       "    }\n",
       "\n",
       "    .dataframe thead th {\n",
       "        text-align: right;\n",
       "    }\n",
       "</style>\n",
       "<table border=\"1\" class=\"dataframe\">\n",
       "  <thead>\n",
       "    <tr style=\"text-align: right;\">\n",
       "      <th></th>\n",
       "      <th>waiting time</th>\n",
       "    </tr>\n",
       "  </thead>\n",
       "  <tbody>\n",
       "    <tr>\n",
       "      <th>0</th>\n",
       "      <td>14.846623</td>\n",
       "    </tr>\n",
       "    <tr>\n",
       "      <th>1</th>\n",
       "      <td>17.230997</td>\n",
       "    </tr>\n",
       "    <tr>\n",
       "      <th>2</th>\n",
       "      <td>20.792432</td>\n",
       "    </tr>\n",
       "    <tr>\n",
       "      <th>3</th>\n",
       "      <td>9.591650</td>\n",
       "    </tr>\n",
       "    <tr>\n",
       "      <th>4</th>\n",
       "      <td>15.292918</td>\n",
       "    </tr>\n",
       "  </tbody>\n",
       "</table>\n",
       "</div>"
      ],
      "text/plain": [
       "   waiting time\n",
       "0     14.846623\n",
       "1     17.230997\n",
       "2     20.792432\n",
       "3      9.591650\n",
       "4     15.292918"
      ]
     },
     "execution_count": 158,
     "metadata": {},
     "output_type": "execute_result"
    }
   ],
   "source": [
    "NYC_time_df.head()"
   ]
  },
  {
   "cell_type": "markdown",
   "id": "601db485",
   "metadata": {},
   "source": [
    "Now let's generate the coordinates from lat: [-74.000702, -73.781132] and lng: [40.583828, 40.867068]. These are approximate coordinates of what NYC is constrained in."
   ]
  },
  {
   "cell_type": "code",
   "execution_count": 159,
   "id": "88b79e22",
   "metadata": {},
   "outputs": [],
   "source": [
    "NYC_lat_min = -74.000702\n",
    "NYC_lat_max = -73.781132\n",
    "NYC_lng_min = 40.583828\n",
    "NYC_lng_max = 40.867068"
   ]
  },
  {
   "cell_type": "code",
   "execution_count": 160,
   "id": "ef43f6a9",
   "metadata": {},
   "outputs": [],
   "source": [
    "NYC_lat_data = np.random.uniform(low=NYC_lat_min, high=NYC_lat_max, size=(N,))\n",
    "NYC_lng_data = np.random.uniform(low=NYC_lng_min, high=NYC_lng_max, size=(N,))"
   ]
  },
  {
   "cell_type": "code",
   "execution_count": 161,
   "id": "127160f5",
   "metadata": {},
   "outputs": [],
   "source": [
    "NYC_lat_df = pd.DataFrame(NYC_lat_data, columns = ['latitude'])\n",
    "NYC_lng_df = pd.DataFrame(NYC_lng_data, columns = ['longitude'])"
   ]
  },
  {
   "cell_type": "code",
   "execution_count": 162,
   "id": "9de406a7",
   "metadata": {},
   "outputs": [
    {
     "data": {
      "text/html": [
       "<div>\n",
       "<style scoped>\n",
       "    .dataframe tbody tr th:only-of-type {\n",
       "        vertical-align: middle;\n",
       "    }\n",
       "\n",
       "    .dataframe tbody tr th {\n",
       "        vertical-align: top;\n",
       "    }\n",
       "\n",
       "    .dataframe thead th {\n",
       "        text-align: right;\n",
       "    }\n",
       "</style>\n",
       "<table border=\"1\" class=\"dataframe\">\n",
       "  <thead>\n",
       "    <tr style=\"text-align: right;\">\n",
       "      <th></th>\n",
       "      <th>latitude</th>\n",
       "    </tr>\n",
       "  </thead>\n",
       "  <tbody>\n",
       "    <tr>\n",
       "      <th>0</th>\n",
       "      <td>-73.870010</td>\n",
       "    </tr>\n",
       "    <tr>\n",
       "      <th>1</th>\n",
       "      <td>-73.892297</td>\n",
       "    </tr>\n",
       "    <tr>\n",
       "      <th>2</th>\n",
       "      <td>-73.866596</td>\n",
       "    </tr>\n",
       "    <tr>\n",
       "      <th>3</th>\n",
       "      <td>-73.874017</td>\n",
       "    </tr>\n",
       "    <tr>\n",
       "      <th>4</th>\n",
       "      <td>-73.785502</td>\n",
       "    </tr>\n",
       "  </tbody>\n",
       "</table>\n",
       "</div>"
      ],
      "text/plain": [
       "    latitude\n",
       "0 -73.870010\n",
       "1 -73.892297\n",
       "2 -73.866596\n",
       "3 -73.874017\n",
       "4 -73.785502"
      ]
     },
     "execution_count": 162,
     "metadata": {},
     "output_type": "execute_result"
    }
   ],
   "source": [
    "NYC_lat_df.head()"
   ]
  },
  {
   "cell_type": "code",
   "execution_count": 163,
   "id": "bf3b66ab",
   "metadata": {},
   "outputs": [
    {
     "data": {
      "text/html": [
       "<div>\n",
       "<style scoped>\n",
       "    .dataframe tbody tr th:only-of-type {\n",
       "        vertical-align: middle;\n",
       "    }\n",
       "\n",
       "    .dataframe tbody tr th {\n",
       "        vertical-align: top;\n",
       "    }\n",
       "\n",
       "    .dataframe thead th {\n",
       "        text-align: right;\n",
       "    }\n",
       "</style>\n",
       "<table border=\"1\" class=\"dataframe\">\n",
       "  <thead>\n",
       "    <tr style=\"text-align: right;\">\n",
       "      <th></th>\n",
       "      <th>longitude</th>\n",
       "    </tr>\n",
       "  </thead>\n",
       "  <tbody>\n",
       "    <tr>\n",
       "      <th>0</th>\n",
       "      <td>40.865672</td>\n",
       "    </tr>\n",
       "    <tr>\n",
       "      <th>1</th>\n",
       "      <td>40.690721</td>\n",
       "    </tr>\n",
       "    <tr>\n",
       "      <th>2</th>\n",
       "      <td>40.807726</td>\n",
       "    </tr>\n",
       "    <tr>\n",
       "      <th>3</th>\n",
       "      <td>40.779291</td>\n",
       "    </tr>\n",
       "    <tr>\n",
       "      <th>4</th>\n",
       "      <td>40.667577</td>\n",
       "    </tr>\n",
       "  </tbody>\n",
       "</table>\n",
       "</div>"
      ],
      "text/plain": [
       "   longitude\n",
       "0  40.865672\n",
       "1  40.690721\n",
       "2  40.807726\n",
       "3  40.779291\n",
       "4  40.667577"
      ]
     },
     "execution_count": 163,
     "metadata": {},
     "output_type": "execute_result"
    }
   ],
   "source": [
    "NYC_lng_df.head()"
   ]
  },
  {
   "cell_type": "code",
   "execution_count": 164,
   "id": "af94c91f",
   "metadata": {},
   "outputs": [],
   "source": [
    "NYC_pd = pd.concat([NYC_time_df, NYC_lat_df, NYC_lng_df], axis=1)"
   ]
  },
  {
   "cell_type": "markdown",
   "id": "5e69d594",
   "metadata": {},
   "source": [
    "We combine it all into one dataframe of 10,000 random samples to play with."
   ]
  },
  {
   "cell_type": "code",
   "execution_count": 165,
   "id": "2b793ee2",
   "metadata": {},
   "outputs": [
    {
     "data": {
      "text/html": [
       "<div>\n",
       "<style scoped>\n",
       "    .dataframe tbody tr th:only-of-type {\n",
       "        vertical-align: middle;\n",
       "    }\n",
       "\n",
       "    .dataframe tbody tr th {\n",
       "        vertical-align: top;\n",
       "    }\n",
       "\n",
       "    .dataframe thead th {\n",
       "        text-align: right;\n",
       "    }\n",
       "</style>\n",
       "<table border=\"1\" class=\"dataframe\">\n",
       "  <thead>\n",
       "    <tr style=\"text-align: right;\">\n",
       "      <th></th>\n",
       "      <th>waiting time</th>\n",
       "      <th>latitude</th>\n",
       "      <th>longitude</th>\n",
       "    </tr>\n",
       "  </thead>\n",
       "  <tbody>\n",
       "    <tr>\n",
       "      <th>count</th>\n",
       "      <td>10000.000000</td>\n",
       "      <td>10000.000000</td>\n",
       "      <td>10000.000000</td>\n",
       "    </tr>\n",
       "    <tr>\n",
       "      <th>mean</th>\n",
       "      <td>17.010551</td>\n",
       "      <td>-73.890369</td>\n",
       "      <td>40.726163</td>\n",
       "    </tr>\n",
       "    <tr>\n",
       "      <th>std</th>\n",
       "      <td>4.957935</td>\n",
       "      <td>0.063868</td>\n",
       "      <td>0.082012</td>\n",
       "    </tr>\n",
       "    <tr>\n",
       "      <th>min</th>\n",
       "      <td>-2.146972</td>\n",
       "      <td>-74.000702</td>\n",
       "      <td>40.583866</td>\n",
       "    </tr>\n",
       "    <tr>\n",
       "      <th>25%</th>\n",
       "      <td>13.709601</td>\n",
       "      <td>-73.945969</td>\n",
       "      <td>40.654259</td>\n",
       "    </tr>\n",
       "    <tr>\n",
       "      <th>50%</th>\n",
       "      <td>16.976025</td>\n",
       "      <td>-73.890077</td>\n",
       "      <td>40.727251</td>\n",
       "    </tr>\n",
       "    <tr>\n",
       "      <th>75%</th>\n",
       "      <td>20.315842</td>\n",
       "      <td>-73.834607</td>\n",
       "      <td>40.797531</td>\n",
       "    </tr>\n",
       "    <tr>\n",
       "      <th>max</th>\n",
       "      <td>34.622431</td>\n",
       "      <td>-73.781132</td>\n",
       "      <td>40.867048</td>\n",
       "    </tr>\n",
       "  </tbody>\n",
       "</table>\n",
       "</div>"
      ],
      "text/plain": [
       "       waiting time      latitude     longitude\n",
       "count  10000.000000  10000.000000  10000.000000\n",
       "mean      17.010551    -73.890369     40.726163\n",
       "std        4.957935      0.063868      0.082012\n",
       "min       -2.146972    -74.000702     40.583866\n",
       "25%       13.709601    -73.945969     40.654259\n",
       "50%       16.976025    -73.890077     40.727251\n",
       "75%       20.315842    -73.834607     40.797531\n",
       "max       34.622431    -73.781132     40.867048"
      ]
     },
     "execution_count": 165,
     "metadata": {},
     "output_type": "execute_result"
    }
   ],
   "source": [
    "NYC_pd.describe()"
   ]
  },
  {
   "cell_type": "markdown",
   "id": "93ea8175",
   "metadata": {},
   "source": [
    "Let's quickly repeat this process with Chicago with a mean of $\\mu_{CHI} = 8$ minutes and $\\sigma_{CHI} = 2$. As well as the following constraints:"
   ]
  },
  {
   "cell_type": "code",
   "execution_count": 166,
   "id": "b69c1432",
   "metadata": {},
   "outputs": [],
   "source": [
    "CHI_lat_min = -87.742439\n",
    "CHI_lat_max = -87.610119\n",
    "CHI_lng_min = 41.652487\n",
    "CHI_lng_max = 41.996954"
   ]
  },
  {
   "cell_type": "code",
   "execution_count": 167,
   "id": "98ba0e82",
   "metadata": {},
   "outputs": [
    {
     "data": {
      "text/html": [
       "<div>\n",
       "<style scoped>\n",
       "    .dataframe tbody tr th:only-of-type {\n",
       "        vertical-align: middle;\n",
       "    }\n",
       "\n",
       "    .dataframe tbody tr th {\n",
       "        vertical-align: top;\n",
       "    }\n",
       "\n",
       "    .dataframe thead th {\n",
       "        text-align: right;\n",
       "    }\n",
       "</style>\n",
       "<table border=\"1\" class=\"dataframe\">\n",
       "  <thead>\n",
       "    <tr style=\"text-align: right;\">\n",
       "      <th></th>\n",
       "      <th>waiting time</th>\n",
       "      <th>latitude</th>\n",
       "      <th>longitude</th>\n",
       "    </tr>\n",
       "  </thead>\n",
       "  <tbody>\n",
       "    <tr>\n",
       "      <th>count</th>\n",
       "      <td>10000.000000</td>\n",
       "      <td>10000.000000</td>\n",
       "      <td>10000.000000</td>\n",
       "    </tr>\n",
       "    <tr>\n",
       "      <th>mean</th>\n",
       "      <td>8.029514</td>\n",
       "      <td>-87.675508</td>\n",
       "      <td>41.824295</td>\n",
       "    </tr>\n",
       "    <tr>\n",
       "      <th>std</th>\n",
       "      <td>2.028416</td>\n",
       "      <td>0.037962</td>\n",
       "      <td>0.099210</td>\n",
       "    </tr>\n",
       "    <tr>\n",
       "      <th>min</th>\n",
       "      <td>1.140385</td>\n",
       "      <td>-87.742420</td>\n",
       "      <td>41.652544</td>\n",
       "    </tr>\n",
       "    <tr>\n",
       "      <th>25%</th>\n",
       "      <td>6.674305</td>\n",
       "      <td>-87.707906</td>\n",
       "      <td>41.739865</td>\n",
       "    </tr>\n",
       "    <tr>\n",
       "      <th>50%</th>\n",
       "      <td>8.003397</td>\n",
       "      <td>-87.674959</td>\n",
       "      <td>41.823477</td>\n",
       "    </tr>\n",
       "    <tr>\n",
       "      <th>75%</th>\n",
       "      <td>9.405170</td>\n",
       "      <td>-87.642864</td>\n",
       "      <td>41.909296</td>\n",
       "    </tr>\n",
       "    <tr>\n",
       "      <th>max</th>\n",
       "      <td>15.798255</td>\n",
       "      <td>-87.610120</td>\n",
       "      <td>41.996938</td>\n",
       "    </tr>\n",
       "  </tbody>\n",
       "</table>\n",
       "</div>"
      ],
      "text/plain": [
       "       waiting time      latitude     longitude\n",
       "count  10000.000000  10000.000000  10000.000000\n",
       "mean       8.029514    -87.675508     41.824295\n",
       "std        2.028416      0.037962      0.099210\n",
       "min        1.140385    -87.742420     41.652544\n",
       "25%        6.674305    -87.707906     41.739865\n",
       "50%        8.003397    -87.674959     41.823477\n",
       "75%        9.405170    -87.642864     41.909296\n",
       "max       15.798255    -87.610120     41.996938"
      ]
     },
     "execution_count": 167,
     "metadata": {},
     "output_type": "execute_result"
    }
   ],
   "source": [
    "CHI_mu = 8\n",
    "CHI_sigma = 2\n",
    "CHI_times = np.random.normal(CHI_mu,CHI_sigma,N)\n",
    "CHI_time_df = pd.DataFrame(CHI_times, columns = ['waiting time'])\n",
    "CHI_lat_data = np.random.uniform(low=CHI_lat_min, high=CHI_lat_max, size=(N,))\n",
    "CHI_lng_data = np.random.uniform(low=CHI_lng_min, high=CHI_lng_max, size=(N,))\n",
    "CHI_lat_df = pd.DataFrame(CHI_lat_data, columns = ['latitude'])\n",
    "CHI_lng_df = pd.DataFrame(CHI_lng_data, columns = ['longitude'])\n",
    "CHI_pd = pd.concat([CHI_time_df, CHI_lat_df, CHI_lng_df], axis=1)\n",
    "CHI_pd.describe()"
   ]
  },
  {
   "cell_type": "markdown",
   "id": "748ff92d",
   "metadata": {},
   "source": [
    "Now we will apply a Random Forest Regression classifier on our datasets. We will split our data randomly reserving 30% for testing and the rest for training."
   ]
  },
  {
   "cell_type": "code",
   "execution_count": 168,
   "id": "15d8975d",
   "metadata": {},
   "outputs": [],
   "source": [
    "predictions.plot(\n",
    "    kind='scatter',\n",
    "    x='latitude', \n",
    "    y='waiting time'\n",
    "    label='test'\n",
    ")train_NYC, test_NYC = train_test_split(NYC_pd, test_size=0.3, shuffle=True)\n",
    "train_CHI, test_CHI = train_test_split(CHI_pd, test_size=0.3, shuffle=True)"
   ]
  },
  {
   "cell_type": "code",
   "execution_count": 169,
   "id": "639fec7e",
   "metadata": {},
   "outputs": [],
   "source": [
    "train = pd.concat([train_NYC, train_CHI], axis=0)"
   ]
  },
  {
   "cell_type": "code",
   "execution_count": 170,
   "id": "dc0e83d5",
   "metadata": {},
   "outputs": [],
   "source": [
    "test = pd.concat([test_NYC, test_CHI], axis=0)"
   ]
  },
  {
   "cell_type": "code",
   "execution_count": 171,
   "id": "47b136f0",
   "metadata": {},
   "outputs": [],
   "source": [
    "FEAT_SET = ['latitude', 'longitude']\n",
    "TARGET = 'waiting time'"
   ]
  },
  {
   "cell_type": "code",
   "execution_count": 172,
   "id": "4d0a0569",
   "metadata": {},
   "outputs": [],
   "source": [
    "X_test = test[FEAT_SET]\n",
    "y_test = test[TARGET]\n",
    "\n",
    "X_train = train[FEAT_SET]\n",
    "y_train = train[TARGET]"
   ]
  },
  {
   "cell_type": "markdown",
   "id": "59a6a88a",
   "metadata": {},
   "source": [
    "Note that there are various ways to optimize with hyperparameters but we are sticking to the simplest model for now. As the data is random we don't expect high results."
   ]
  },
  {
   "cell_type": "code",
   "execution_count": 173,
   "id": "5fece72d",
   "metadata": {},
   "outputs": [
    {
     "data": {
      "text/plain": [
       "RandomForestRegressor(random_state=42)"
      ]
     },
     "execution_count": 173,
     "metadata": {},
     "output_type": "execute_result"
    }
   ],
   "source": [
    "rf = RandomForestRegressor(\n",
    "    n_estimators=100, random_state=42\n",
    "    )\n",
    "rf.fit(X_train, y_train)"
   ]
  },
  {
   "cell_type": "code",
   "execution_count": 174,
   "id": "14765cb8",
   "metadata": {},
   "outputs": [
    {
     "data": {
      "text/plain": [
       "0.5108463255953659"
      ]
     },
     "execution_count": 174,
     "metadata": {},
     "output_type": "execute_result"
    }
   ],
   "source": [
    "rf.score(X_test, y_test)"
   ]
  },
  {
   "cell_type": "code",
   "execution_count": 175,
   "id": "a90ac9d0",
   "metadata": {},
   "outputs": [
    {
     "data": {
      "text/html": [
       "<div>\n",
       "<style scoped>\n",
       "    .dataframe tbody tr th:only-of-type {\n",
       "        vertical-align: middle;\n",
       "    }\n",
       "\n",
       "    .dataframe tbody tr th {\n",
       "        vertical-align: top;\n",
       "    }\n",
       "\n",
       "    .dataframe thead th {\n",
       "        text-align: right;\n",
       "    }\n",
       "</style>\n",
       "<table border=\"1\" class=\"dataframe\">\n",
       "  <thead>\n",
       "    <tr style=\"text-align: right;\">\n",
       "      <th></th>\n",
       "      <th>waiting time</th>\n",
       "      <th>latitude</th>\n",
       "      <th>longitude</th>\n",
       "    </tr>\n",
       "  </thead>\n",
       "  <tbody>\n",
       "    <tr>\n",
       "      <th>0</th>\n",
       "      <td>18.314313</td>\n",
       "      <td>-73.791856</td>\n",
       "      <td>40.828871</td>\n",
       "    </tr>\n",
       "    <tr>\n",
       "      <th>1</th>\n",
       "      <td>17.929462</td>\n",
       "      <td>-73.902397</td>\n",
       "      <td>40.797647</td>\n",
       "    </tr>\n",
       "    <tr>\n",
       "      <th>2</th>\n",
       "      <td>15.789964</td>\n",
       "      <td>-73.979333</td>\n",
       "      <td>40.796987</td>\n",
       "    </tr>\n",
       "    <tr>\n",
       "      <th>3</th>\n",
       "      <td>19.817220</td>\n",
       "      <td>-73.809508</td>\n",
       "      <td>40.586111</td>\n",
       "    </tr>\n",
       "    <tr>\n",
       "      <th>4</th>\n",
       "      <td>16.930776</td>\n",
       "      <td>-73.923193</td>\n",
       "      <td>40.607448</td>\n",
       "    </tr>\n",
       "    <tr>\n",
       "      <th>...</th>\n",
       "      <td>...</td>\n",
       "      <td>...</td>\n",
       "      <td>...</td>\n",
       "    </tr>\n",
       "    <tr>\n",
       "      <th>5995</th>\n",
       "      <td>7.474640</td>\n",
       "      <td>-87.733134</td>\n",
       "      <td>41.857308</td>\n",
       "    </tr>\n",
       "    <tr>\n",
       "      <th>5996</th>\n",
       "      <td>8.544990</td>\n",
       "      <td>-87.656353</td>\n",
       "      <td>41.865136</td>\n",
       "    </tr>\n",
       "    <tr>\n",
       "      <th>5997</th>\n",
       "      <td>6.663711</td>\n",
       "      <td>-87.641233</td>\n",
       "      <td>41.927476</td>\n",
       "    </tr>\n",
       "    <tr>\n",
       "      <th>5998</th>\n",
       "      <td>8.646846</td>\n",
       "      <td>-87.611576</td>\n",
       "      <td>41.856106</td>\n",
       "    </tr>\n",
       "    <tr>\n",
       "      <th>5999</th>\n",
       "      <td>7.104689</td>\n",
       "      <td>-87.695469</td>\n",
       "      <td>41.962718</td>\n",
       "    </tr>\n",
       "  </tbody>\n",
       "</table>\n",
       "<p>6000 rows × 3 columns</p>\n",
       "</div>"
      ],
      "text/plain": [
       "      waiting time   latitude  longitude\n",
       "0        18.314313 -73.791856  40.828871\n",
       "1        17.929462 -73.902397  40.797647\n",
       "2        15.789964 -73.979333  40.796987\n",
       "3        19.817220 -73.809508  40.586111\n",
       "4        16.930776 -73.923193  40.607448\n",
       "...            ...        ...        ...\n",
       "5995      7.474640 -87.733134  41.857308\n",
       "5996      8.544990 -87.656353  41.865136\n",
       "5997      6.663711 -87.641233  41.927476\n",
       "5998      8.646846 -87.611576  41.856106\n",
       "5999      7.104689 -87.695469  41.962718\n",
       "\n",
       "[6000 rows x 3 columns]"
      ]
     },
     "execution_count": 175,
     "metadata": {},
     "output_type": "execute_result"
    }
   ],
   "source": [
    "y_pred = rf.predict(X_test)\n",
    "y_pred_df = pd.DataFrame(y_pred, columns = ['waiting time'])\n",
    "X_test_df = X_test.reset_index(drop=True)\n",
    "predictions = pd.concat([y_pred_df, X_test_df], axis=1)\n",
    "predictions"
   ]
  },
  {
   "cell_type": "markdown",
   "id": "eb65cd15",
   "metadata": {},
   "source": [
    "We see a score of 51.56%, slighlt above average for our randomly generated data, and predictions matching the range of the coordinate constraints per city. We can visually plot this as so:"
   ]
  },
  {
   "cell_type": "code",
   "execution_count": 205,
   "id": "8b550311",
   "metadata": {},
   "outputs": [
    {
     "data": {
      "image/png": "[encoded data removed]",
      "text/plain": [
       "<Figure size 432x288 with 1 Axes>"
      ]
     },
     "metadata": {
      "needs_background": "light"
     },
     "output_type": "display_data"
    }
   ],
   "source": [
    "predictions.plot(\n",
    "    kind='scatter',\n",
    "    x='latitude', \n",
    "    y='waiting time',\n",
    ");"
   ]
  },
  {
   "cell_type": "markdown",
   "id": "33422b42",
   "metadata": {},
   "source": [
    "We can see close up these are two clusters matching the original ranges and coordinates."
   ]
  },
  {
   "cell_type": "code",
   "execution_count": 206,
   "id": "e14a7ca7",
   "metadata": {},
   "outputs": [
    {
     "data": {
      "image/png": "[encoded data removed]",
      "text/plain": [
       "<Figure size 432x288 with 1 Axes>"
      ]
     },
     "metadata": {
      "needs_background": "light"
     },
     "output_type": "display_data"
    }
   ],
   "source": [
    "predictions[predictions.latitude < -80].plot(\n",
    "    kind='scatter',\n",
    "    x='latitude', \n",
    "    y='waiting time',\n",
    "    title=\"NYC\"\n",
    ");"
   ]
  },
  {
   "cell_type": "code",
   "execution_count": 207,
   "id": "c49ac35f",
   "metadata": {},
   "outputs": [
    {
     "data": {
      "image/png": "[encoded data removed]",
      "text/plain": [
       "<Figure size 432x288 with 1 Axes>"
      ]
     },
     "metadata": {
      "needs_background": "light"
     },
     "output_type": "display_data"
    }
   ],
   "source": [
    "predictions[predictions.latitude > -80].plot(\n",
    "    kind='scatter',\n",
    "    x='latitude', \n",
    "    y='waiting time',\n",
    "    title='CHI'\n",
    ");"
   ]
  },
  {
   "cell_type": "markdown",
   "id": "1cb9260f",
   "metadata": {},
   "source": [
    "We hope to use substantial data and expand on the prediction with a more accurate model to further benefit the Parking Pal app users."
   ]
  }
 ],
 "metadata": {
  "kernelspec": {
   "display_name": "Python 3 (ipykernel)",
   "language": "python",
   "name": "python3"
  },
  "language_info": {
   "codemirror_mode": {
    "name": "ipython",
    "version": 3
   },
   "file_extension": ".py",
   "mimetype": "text/x-python",
   "name": "python",
   "nbconvert_exporter": "python",
   "pygments_lexer": "ipython3",
   "version": "3.9.7"
  }
 },
 "nbformat": 4,
 "nbformat_minor": 5
}
